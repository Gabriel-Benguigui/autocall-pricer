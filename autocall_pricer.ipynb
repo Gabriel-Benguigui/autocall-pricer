{
 "cells": [
  {
   "cell_type": "markdown",
   "id": "62d0ab94",
   "metadata": {},
   "source": [
    "# Pricer d'Autocall – Monte Carlo 🧮📊\n",
    "\n",
    "Ce notebook estime le prix d’un produit structuré de type **autocall** à l’aide d’une simulation de Monte Carlo.\n",
    "\n",
    "- Coupon de 8% versé à chaque observation si le sous-jacent est au-dessus de la barrière\n",
    "- Observation annuelle pendant 3 ans\n",
    "- Remboursement à maturité si l'autocall n'a pas été déclenché\n"
   ]
  },
  {
   "cell_type": "code",
   "execution_count": null,
   "id": "de990118",
   "metadata": {},
   "outputs": [],
   "source": [
    "import numpy as np\n",
    "\n",
    "# Paramètres de base\n",
    "S0 = 100             # Prix initial du sous-jacent\n",
    "K = 100              # Strike\n",
    "barrier = 100        # Barrière d’autocall\n",
    "T = 3                # Durée en années\n",
    "r = 0.01             # Taux sans risque\n",
    "sigma = 0.2          # Volatilité\n",
    "nb_obs = 3           # Observations annuelles\n",
    "coupon = 0.08        # Coupon annuel\n",
    "simulations = 10000  # Nombre de trajectoires simulées\n",
    "\n",
    "np.random.seed(42)\n",
    "dt = 1/nb_obs\n",
    "discount_factor = np.exp(-r * T)\n",
    "\n",
    "def simulate_autocall_payoff():\n",
    "    S = S0\n",
    "    for i in range(1, nb_obs + 1):\n",
    "        z = np.random.normal()\n",
    "        S *= np.exp((r - 0.5 * sigma**2) * dt + sigma * np.sqrt(dt) * z)\n",
    "        if S >= barrier:\n",
    "            return coupon * i * np.exp(-r * i * dt)  # paiement anticipé\n",
    "    return np.exp(-r * T) * max(S - K, 0)  # remboursement à maturité\n",
    "\n",
    "# Simulation de Monte Carlo\n",
    "payoffs = [simulate_autocall_payoff() for _ in range(simulations)]\n",
    "price = np.mean(payoffs)\n",
    "\n",
    "print(f\"Prix estimé de l'autocall : {price:.4f}\")\n"
   ]
  }
 ],
 "metadata": {},
 "nbformat": 4,
 "nbformat_minor": 5
}
